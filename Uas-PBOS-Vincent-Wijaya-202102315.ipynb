{
 "cells": [
  {
   "cell_type": "code",
   "execution_count": 13,
   "id": "cc8a77ec",
   "metadata": {},
   "outputs": [
    {
     "name": "stdout",
     "output_type": "stream",
     "text": [
      "Silakan Masukkan sisi 1 :123\n",
      "Silakan Masukkan sisi 2 :23\n",
      "Luas persegi adalah 2829\n",
      "Keliling persegi adalah 292\n"
     ]
    }
   ],
   "source": [
    "class Polygon:\n",
    "    def __init__(self, jumlah_sisi):\n",
    "        self.n = jumlah_sisi\n",
    "        self.sides = [0 for i in range(jumlah_sisi)]\n",
    "    def inputSides(self):\n",
    "        self.sides = [float(input(\"Silakan Masukkan sisi \"+str(i+1)+ \" :\")) for i in range(self.n)]\n",
    "    def dispSides(self):\n",
    "        for i in range(self.n):\n",
    "            print(\"sisi\",i+1,\"adalah\",self.sides[i])\n",
    "\n",
    "class Rectangle(Polygon):\n",
    "    def __init__(self):\n",
    "        Polygon.__init__(self,2)\n",
    "\n",
    "    def findArea(self):\n",
    "        a,b = self.sides\n",
    "        #hitung keliling\n",
    "        luas = a*b\n",
    "        keliling = 2*(a+b)\n",
    "        print(\"Luas persegi adalah %d\"%luas)\n",
    "        print(\"Keliling persegi adalah %d\"%keliling)\n",
    "\n",
    "a = Rectangle()\n",
    "a.inputSides()\n",
    "a.findArea()"
   ]
  },
  {
   "cell_type": "code",
   "execution_count": 15,
   "id": "5b42e9ac",
   "metadata": {},
   "outputs": [
    {
     "name": "stdout",
     "output_type": "stream",
     "text": [
      "Nama   : vincent\n",
      "Alamat : jl.johar\n",
      "Nim   : 202102315\n",
      "\n",
      "\n",
      "Di Bawah Ini Adalah Data Diri Yang Anda Masukan \n",
      "Nama  :  vincent\n",
      "Alamat :  jl.johar\n",
      "Nim    :  202102315\n"
     ]
    }
   ],
   "source": [
    "class BiodataDiri():\n",
    "    def _init_(self,nama,alamat, nim):\n",
    "        \n",
    "        print(\"Inputkan Biodata Anda\")\n",
    "        \n",
    "    def input(self):\n",
    "        self.nama = input(\"Nama   : \")\n",
    "        self.alamat = input(\"Alamat : \")\n",
    "        self.nim = input(\"Nim   : \")\n",
    "        \n",
    "class DataPribadi(biodata):\n",
    "    def cetak(self):\n",
    "        print (\"\\n\\nDi Bawah Ini Adalah Data Diri Yang Anda Masukan \")\n",
    "        print (\"Nama  : \", self.nama)\n",
    "        print (\"Alamat : \", self.alamat)\n",
    "        print (\"Nim    : \", self.nim)\n",
    "        \n",
    "data = datadiri()\n",
    "data.input()\n",
    "data.cetak()"
   ]
  },
  {
   "cell_type": "code",
   "execution_count": 18,
   "id": "279f1e1d",
   "metadata": {},
   "outputs": [
    {
     "name": "stdout",
     "output_type": "stream",
     "text": [
      "Select operation.\n",
      "1.Tambah\n",
      "2.Kurang\n",
      "3.Kali\n",
      "4.Bagi\n",
      "Enter choice(1/2/3/4): 4\n",
      "Masukan Angka Ke Satu : 22\n",
      "Masukan Angka Ke Dua   : 22\n",
      "22.0 / 22.0 = 1.0\n",
      "Silahkan Ulangi Kembali ? (Iya/Tidak): Iya\n",
      "Enter choice(1/2/3/4): 2\n",
      "Masukan Angka Ke Satu : 23\n",
      "Masukan Angka Ke Dua   : 23\n",
      "23.0 - 23.0 = 0.0\n",
      "Silahkan Ulangi Kembali ? (Iya/Tidak): Tidak\n"
     ]
    },
    {
     "ename": "KeyboardInterrupt",
     "evalue": "Interrupted by user",
     "output_type": "error",
     "traceback": [
      "\u001b[1;31m---------------------------------------------------------------------------\u001b[0m",
      "\u001b[1;31mKeyboardInterrupt\u001b[0m                         Traceback (most recent call last)",
      "\u001b[1;32m<ipython-input-18-4ce3fa38175c>\u001b[0m in \u001b[0;36m<module>\u001b[1;34m\u001b[0m\n\u001b[0;32m     23\u001b[0m \u001b[1;32mwhile\u001b[0m \u001b[1;32mTrue\u001b[0m\u001b[1;33m:\u001b[0m\u001b[1;33m\u001b[0m\u001b[1;33m\u001b[0m\u001b[0m\n\u001b[0;32m     24\u001b[0m     \u001b[1;31m# CODINGAN MASUKKAN DATA\u001b[0m\u001b[1;33m\u001b[0m\u001b[1;33m\u001b[0m\u001b[1;33m\u001b[0m\u001b[0m\n\u001b[1;32m---> 25\u001b[1;33m     \u001b[0mchoice\u001b[0m \u001b[1;33m=\u001b[0m \u001b[0minput\u001b[0m\u001b[1;33m(\u001b[0m\u001b[1;34m\"Enter choice(1/2/3/4): \"\u001b[0m\u001b[1;33m)\u001b[0m\u001b[1;33m\u001b[0m\u001b[1;33m\u001b[0m\u001b[0m\n\u001b[0m\u001b[0;32m     26\u001b[0m \u001b[1;33m\u001b[0m\u001b[0m\n\u001b[0;32m     27\u001b[0m     \u001b[1;31m# CODINGAN UNTUK MEMILIH RUMUS\u001b[0m\u001b[1;33m\u001b[0m\u001b[1;33m\u001b[0m\u001b[1;33m\u001b[0m\u001b[0m\n",
      "\u001b[1;32m~\\anaconda3\\lib\\site-packages\\ipykernel\\kernelbase.py\u001b[0m in \u001b[0;36mraw_input\u001b[1;34m(self, prompt)\u001b[0m\n\u001b[0;32m    858\u001b[0m                 \u001b[1;34m\"raw_input was called, but this frontend does not support input requests.\"\u001b[0m\u001b[1;33m\u001b[0m\u001b[1;33m\u001b[0m\u001b[0m\n\u001b[0;32m    859\u001b[0m             )\n\u001b[1;32m--> 860\u001b[1;33m         return self._input_request(str(prompt),\n\u001b[0m\u001b[0;32m    861\u001b[0m             \u001b[0mself\u001b[0m\u001b[1;33m.\u001b[0m\u001b[0m_parent_ident\u001b[0m\u001b[1;33m,\u001b[0m\u001b[1;33m\u001b[0m\u001b[1;33m\u001b[0m\u001b[0m\n\u001b[0;32m    862\u001b[0m             \u001b[0mself\u001b[0m\u001b[1;33m.\u001b[0m\u001b[0m_parent_header\u001b[0m\u001b[1;33m,\u001b[0m\u001b[1;33m\u001b[0m\u001b[1;33m\u001b[0m\u001b[0m\n",
      "\u001b[1;32m~\\anaconda3\\lib\\site-packages\\ipykernel\\kernelbase.py\u001b[0m in \u001b[0;36m_input_request\u001b[1;34m(self, prompt, ident, parent, password)\u001b[0m\n\u001b[0;32m    902\u001b[0m             \u001b[1;32mexcept\u001b[0m \u001b[0mKeyboardInterrupt\u001b[0m\u001b[1;33m:\u001b[0m\u001b[1;33m\u001b[0m\u001b[1;33m\u001b[0m\u001b[0m\n\u001b[0;32m    903\u001b[0m                 \u001b[1;31m# re-raise KeyboardInterrupt, to truncate traceback\u001b[0m\u001b[1;33m\u001b[0m\u001b[1;33m\u001b[0m\u001b[1;33m\u001b[0m\u001b[0m\n\u001b[1;32m--> 904\u001b[1;33m                 \u001b[1;32mraise\u001b[0m \u001b[0mKeyboardInterrupt\u001b[0m\u001b[1;33m(\u001b[0m\u001b[1;34m\"Interrupted by user\"\u001b[0m\u001b[1;33m)\u001b[0m \u001b[1;32mfrom\u001b[0m \u001b[1;32mNone\u001b[0m\u001b[1;33m\u001b[0m\u001b[1;33m\u001b[0m\u001b[0m\n\u001b[0m\u001b[0;32m    905\u001b[0m             \u001b[1;32mexcept\u001b[0m \u001b[0mException\u001b[0m \u001b[1;32mas\u001b[0m \u001b[0me\u001b[0m\u001b[1;33m:\u001b[0m\u001b[1;33m\u001b[0m\u001b[1;33m\u001b[0m\u001b[0m\n\u001b[0;32m    906\u001b[0m                 \u001b[0mself\u001b[0m\u001b[1;33m.\u001b[0m\u001b[0mlog\u001b[0m\u001b[1;33m.\u001b[0m\u001b[0mwarning\u001b[0m\u001b[1;33m(\u001b[0m\u001b[1;34m\"Invalid Message:\"\u001b[0m\u001b[1;33m,\u001b[0m \u001b[0mexc_info\u001b[0m\u001b[1;33m=\u001b[0m\u001b[1;32mTrue\u001b[0m\u001b[1;33m)\u001b[0m\u001b[1;33m\u001b[0m\u001b[1;33m\u001b[0m\u001b[0m\n",
      "\u001b[1;31mKeyboardInterrupt\u001b[0m: Interrupted by user"
     ]
    }
   ],
   "source": [
    "def tambah(x, y):\n",
    "    return x + y\n",
    "\n",
    "# RUMUS Kurang\n",
    "def kurang(x, y):\n",
    "    return x - y\n",
    "\n",
    "# RUMUS Kali\n",
    "def kali(x, y):\n",
    "    return x * y\n",
    "\n",
    "# RUMUS Bagi\n",
    "def bagi(x, y):\n",
    "    return x / y\n",
    "\n",
    "\n",
    "print(\"Select operation.\")\n",
    "print(\"1.Tambah\")\n",
    "print(\"2.Kurang\")\n",
    "print(\"3.Kali\")\n",
    "print(\"4.Bagi\")\n",
    "\n",
    "while True:\n",
    "    # CODINGAN MASUKKAN DATA\n",
    "    choice = input(\"Enter choice(1/2/3/4): \")\n",
    "\n",
    "    # CODINGAN UNTUK MEMILIH RUMUS\n",
    "    if choice in ('1', '2', '3', '4'):\n",
    "        a = float(input(\"Masukan Angka Ke Satu : \"))\n",
    "        b = float(input(\"Masukan Angka Ke Dua   : \"))\n",
    "\n",
    "        if choice == '1':\n",
    "            print(a, \"+\", b, \"=\", tambah(a, b))\n",
    "\n",
    "        elif choice == '2':\n",
    "            print(a, \"-\", b, \"=\", kurang(a, b))\n",
    "\n",
    "        elif choice == '3':\n",
    "            print(a, \"*\", b, \"=\", kali(a, b))\n",
    "\n",
    "        elif choice == '4':\n",
    "            print(a, \"/\", b, \"=\", bagi(a, b))\n",
    "        \n",
    "        # CODINGAN UNTUK ULANG KEMBALI ATAU TIDAK\n",
    "        next_calculation = input(\"Silahkan Ulangi Kembali ? (Iya/Tidak): \")\n",
    "        if next_calculation == \"Tidak\":\n",
    "            break\n",
    "    \n",
    "    else:\n",
    "        print(\"Invalid Input\")"
   ]
  },
  {
   "cell_type": "markdown",
   "id": "8cac7ca3",
   "metadata": {},
   "source": [
    "###### "
   ]
  }
 ],
 "metadata": {
  "kernelspec": {
   "display_name": "Python 3",
   "language": "python",
   "name": "python3"
  }
 },
 "nbformat": 4,
 "nbformat_minor": 5
}
